{
 "metadata": {
  "name": "voids"
 },
 "nbformat": 3,
 "nbformat_minor": 0,
 "worksheets": [
  {
   "cells": [
    {
     "cell_type": "markdown",
     "metadata": {},
     "source": [
      "**Analysis of Isolated pairs around cosmic voids**\n",
      "================================\n",
      "\n",
      "\n",
      "Throghout this notebook we analyse the spatial distribution of isolated pairs regarding the neighbourhood of cosmic voids."
     ]
    },
    {
     "cell_type": "markdown",
     "metadata": {},
     "source": [
      "**Press this link to <script type=\"text/javascript\">\n",
      "    show=true;\n",
      "    function toggle(){\n",
      "        if (show){\n",
      "            $('div.input').hide();\n",
      "        }else{\n",
      "            $('div.input').show();\n",
      "        }\n",
      "        show = !show\n",
      "    }\n",
      "</script>\n",
      "<a href=\"javascript:toggle()\" target=\"_self\">hide/unhide</a> the code**\n",
      " (*it does not work in nbviewer.ipython.org*)"
     ]
    },
    {
     "cell_type": "code",
     "collapsed": false,
     "input": [
      "#==================================================================================================\n",
      "#Importing all necessary libraries\n",
      "#==================================================================================================\n",
      "%pylab inline\n",
      "import matplotlib.pylab as plt\n",
      "# JSAnimation import available at https://github.com/jakevdp/JSAnimation\n",
      "from JSAnimation import IPython_display\n",
      "from matplotlib import animation\n",
      "import numpy as np\n",
      "\n",
      "#Folder where is stored all simulation data\n",
      "data_folder = '../../CosmicData/BOLSHOI/'\n",
      "#Folder where is stored all binary codes (C)\n",
      "binary_folder = './codes/'\n",
      "#Parameter of the simulation\n",
      "Lbox = 250.0    #[Mpc]\n",
      "Nbox = 256\n",
      "\n",
      "#==================================================================================================\n",
      "#Functions\n",
      "#==================================================================================================\n",
      "#Cutting Density field in X/Y/Z axe\n",
      "def CutFieldZ( filename, X, res=32, Coor = 3, N=256 ):\n",
      "    os.system( \"%s/Field_Cut%d.out %s %d temp.tmp %d\"%( binary_folder, res, filename, X, Coor ) )\n",
      "    datos = np.loadtxt( 'temp.tmp' )\n",
      "    N = int(np.sqrt(len( datos )))\n",
      "    datos = datos.reshape( (N, N) )\n",
      "    os.system( \"rm temp.tmp\" )\n",
      "    return datos\n",
      "\n",
      "#==================================================================================================\n",
      "#Loading all data (catalogues of halos and voids)\n",
      "#==================================================================================================\n",
      "#BDM catalogue of halos\n",
      "BDM_halos = np.transpose(np.loadtxt( \"%s/C_GH_BDM.dat\"%(data_folder) ))\n",
      "#FOF catalogue of halos\n",
      "FOF_halos = np.transpose(np.loadtxt( \"%s/C_GH_FOF.dat\"%(data_folder) ))\n",
      "\n",
      "#BDM catalogue of isolated pairs\n",
      "BDM_ip = np.transpose(np.loadtxt( \"%s/C_IP_BDM.dat\"%(data_folder) ))\n",
      "#FOF catalogue of isolated pairs\n",
      "FOF_ip = np.transpose(np.loadtxt( \"%s/C_IP_FOF.dat\"%(data_folder) ))\n",
      "\n",
      "#BDM catalogue of reduced isolated pairs\n",
      "BDM_ip = np.transpose(np.loadtxt( \"%s/C_IP_BDM.dat\"%(data_folder) ))\n",
      "#FOF catalogue of reduced isolated pairs\n",
      "FOF_ip = np.transpose(np.loadtxt( \"%s/C_IP_FOF.dat\"%(data_folder) ))\n",
      "\n",
      "#Catalogue of distances of BDM halos to Tweb-FAG-21 voids\n",
      "#    Twe-FAG-21 : Void finder based on a Watershed transform over the FA field of the Tweb scheme\n",
      "#    with a 2nd-order median filtering applied and with boundary removal activated\n",
      "dist_Tweb_BDM = np.transpose(np.loadtxt( \"%s/Tweb/256/C_GH-voids_s1_BDM_FAG.dat\"%(data_folder) ))\n",
      "\n",
      "#Filename of density field\n",
      "density_f = \"%s/Tweb/256/Delta_s1\"%(data_folder)\n",
      "#Filename of Tweb eigenvalues\n",
      "eigenT_f = \"%s/Tweb/256/Eigen_s1\"%(data_folder)\n",
      "#Filename of Vweb eigenvalues\n",
      "eigenV_f = \"%s/Vweb/256/Eigen_s1\"%(data_folder)\n",
      "\n",
      "#Folder of Tweb-FAG-21 voids\n",
      "voidsT21_f = "
     ],
     "language": "python",
     "metadata": {},
     "outputs": [
      {
       "output_type": "stream",
       "stream": "stdout",
       "text": [
        "\n",
        "Welcome to pylab, a matplotlib-based Python environment [backend: module://IPython.zmq.pylab.backend_inline].\n",
        "For more information, type 'help(pylab)'.\n"
       ]
      }
     ],
     "prompt_number": 14
    }
   ],
   "metadata": {}
  }
 ]
}